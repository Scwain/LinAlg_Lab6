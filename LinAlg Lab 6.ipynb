{
 "cells": [
  {
   "cell_type": "markdown",
   "metadata": {},
   "source": [
    "# Linear Algebra for CpE\n",
    "## Laboratory 6 : Matrices"
   ]
  },
  {
   "cell_type": "markdown",
   "metadata": {},
   "source": [
    "Coded and submitted by:\n",
    "<br>\n",
    "Panelo, Bryan V.\n",
    "<br>\n",
    "58011"
   ]
  },
  {
   "cell_type": "code",
   "execution_count": 1,
   "metadata": {},
   "outputs": [],
   "source": [
    "import numpy as np\n",
    "import matplotlib.pyplot as plt\n",
    "import scipy.linalg as la\n",
    "%matplotlib inline"
   ]
  },
  {
   "cell_type": "markdown",
   "metadata": {},
   "source": [
    "### Matrices"
   ]
  },
  {
   "cell_type": "markdown",
   "metadata": {},
   "source": [
    "## Activity"
   ]
  },
  {
   "cell_type": "markdown",
   "metadata": {},
   "source": [
    "### Task 1"
   ]
  },
  {
   "cell_type": "markdown",
   "metadata": {},
   "source": [
    "Create a function named `mat_desc()` that througouhly describes a matrix, it should: <br>\n",
    "1. Displays the shape, size, and rank of the matrix. <br>\n",
    "2. Displays whether the matrix is square or non-square. <br>\n",
    "3. Displays whether the matrix is an empty matrix. <br>\n",
    "4. Displays if the matrix is an identity, ones, or zeros matrix <br>\n",
    "   \n",
    "Use 5 sample matrices in which their shapes are not lower than $(3,3)$.\n",
    "In your methodology, create a flowchart discuss the functions and methods you have done. Present your results in the results section showing the description of each matrix you have declared."
   ]
  },
  {
   "cell_type": "code",
   "execution_count": 83,
   "metadata": {},
   "outputs": [],
   "source": [
    "## Function area\n",
    "def mat_desc(matrix):\n",
    "    mshape = print(\"The shape of the matrix is:\",matrix.shape)\n",
    "    msize  = print(\"The size of the matrix is:\", matrix.size)\n",
    "    mrank  = print(\"The rank of the matrix is:\", matrix.ndim)\n",
    "        \n",
    "        #matrix and non matrix\n",
    "    if matrix.shape[0] == matrix.shape[1]:\n",
    "        print(\"The matrix is a square\")\n",
    "    else:\n",
    "        print(\"The matris is non-square\")\n",
    "\n",
    "        #Whether the matrix is empty\n",
    "    if matrix.size > 0:\n",
    "        print(\"The matrix is not null\")\n",
    "    else:\n",
    "        print(\"The matrix is null\")\n",
    "    \n",
    "        #Display if the matrix is an identity\n",
    "    \n",
    "    if (np.eye(matrix.shape[0],matrix.shape[1])).any(): \n",
    "          print(\"The matrix is an identity\")\n",
    "    elif (np.eye(matrix.shape[0]!=matrix.shape[1])).any(): \n",
    "           print(\"The matrix is not an identity\")\n",
    "    else:0\n",
    "        #Display if the matrix is comprised of ones\n",
    "    if np.all(matrix) == 1:\n",
    "        print(\"The matrix is a ones matrix\")\n",
    "    else: \n",
    "        print(\"The matrix is not is not a ones matrix\")\n",
    "        \n",
    "        #Display if the matrix is coprised of zeros\n",
    "    if np.all(matrix) ==0:\n",
    "        print(\"The matrix is comprised of zeros\")\n",
    "    elif np.all(matrix) !=0:\n",
    "        print(\"The matrix is not comprised of zeros\")"
   ]
  },
  {
   "cell_type": "code",
   "execution_count": 3,
   "metadata": {},
   "outputs": [],
   "source": [
    "## Matrix declarations\n",
    "A = np.array([\n",
    "    [0,0,0],\n",
    "    [0,0,0],\n",
    "    [0,0,0]\n",
    "])\n",
    "\n",
    "B = np.array([\n",
    "    [1,3,1],\n",
    "    [0,5,2],\n",
    "])\n",
    "C = np.array([\n",
    "    [1,0,0],\n",
    "    [0,1,0],\n",
    "    [0,0,1]\n",
    "])\n",
    "D = np.array([\n",
    "    [1,1,1],\n",
    "    [1,1,1],\n",
    "    [1,1,1]\n",
    "])\n",
    "E = np.array([\n",
    "    [1,2,3],\n",
    "    [4,5,6],\n",
    "    [7,8,9]\n",
    "])\n"
   ]
  },
  {
   "cell_type": "code",
   "execution_count": 84,
   "metadata": {},
   "outputs": [
    {
     "name": "stdout",
     "output_type": "stream",
     "text": [
      "---A---\n",
      "The shape of the matrix is: (3, 3)\n",
      "The size of the matrix is: 9\n",
      "The rank of the matrix is: 2\n",
      "The matrix is a square\n",
      "The matrix is not null\n",
      "The matrix is an identity\n",
      "The matrix is not is not a ones matrix\n",
      "The matrix is comprised of zeros\n",
      "---B---\n",
      "The shape of the matrix is: (2, 3)\n",
      "The size of the matrix is: 6\n",
      "The rank of the matrix is: 2\n",
      "The matris is non-square\n",
      "The matrix is not null\n",
      "The matrix is an identity\n",
      "The matrix is not is not a ones matrix\n",
      "The matrix is comprised of zeros\n",
      "---C---\n",
      "The shape of the matrix is: (3, 3)\n",
      "The size of the matrix is: 9\n",
      "The rank of the matrix is: 2\n",
      "The matrix is a square\n",
      "The matrix is not null\n",
      "The matrix is an identity\n",
      "The matrix is not is not a ones matrix\n",
      "The matrix is comprised of zeros\n",
      "---D---\n",
      "The shape of the matrix is: (3, 3)\n",
      "The size of the matrix is: 9\n",
      "The rank of the matrix is: 2\n",
      "The matrix is a square\n",
      "The matrix is not null\n",
      "The matrix is an identity\n",
      "The matrix is a ones matrix\n",
      "The matrix is not comprised of zeros\n",
      "---E---\n",
      "The shape of the matrix is: (3, 3)\n",
      "The size of the matrix is: 9\n",
      "The rank of the matrix is: 2\n",
      "The matrix is a square\n",
      "The matrix is not null\n",
      "The matrix is an identity\n",
      "The matrix is a ones matrix\n",
      "The matrix is not comprised of zeros\n"
     ]
    }
   ],
   "source": [
    "## Test Areas\n",
    "print(\"---A---\")\n",
    "mat_desc(A)\n",
    "\n",
    "print(\"---B---\")\n",
    "mat_desc(B)\n",
    "\n",
    "print(\"---C---\")\n",
    "mat_desc(C)\n",
    "\n",
    "print(\"---D---\")\n",
    "mat_desc(D)\n",
    "\n",
    "print(\"---E---\")\n",
    "mat_desc(E)"
   ]
  },
  {
   "cell_type": "markdown",
   "metadata": {},
   "source": [
    "### Task 2"
   ]
  },
  {
   "cell_type": "markdown",
   "metadata": {},
   "source": [
    "Create a function named `mat_operations()` that takes in two matrices or scalars a input parameters it should:<br>\n",
    " 1. Display the description of each matrix, if the parameter is a scalar it tells that it is a scalar rather than describing it as a matrix.\n",
    " 2. Determines if the matrices are viable for operation and returns your own error message if they are not viable.\n",
    " 3. Returns the sum of the matrices.\n",
    " 4. Returns the differen of the matrices.\n",
    " 5. Returns the element-wise multiplication of the matrices.\n",
    " 6. Returns the element-wise division of the matrices.\n",
    "\n",
    "Use 5 sample matrices in which their shapes are not lower than $(3,3)$.\n",
    "In your methodology, create a flowchart discuss the functions and methods you have done. Present your results in the results section showing the description of each matrix you have declared."
   ]
  },
  {
   "cell_type": "code",
   "execution_count": 5,
   "metadata": {},
   "outputs": [],
   "source": [
    "def mat_operations(matrixA,matrixB):\n",
    "    if (matrixA.shape==matrixB.shape):\n",
    "        print(\"The sum of the matrices is:\\n\", matrixA+matrixB)\n",
    "        print(\"The difference of the matrices is:\\n\", matrixA-matrixB)\n",
    "        print(\"The product of the matrices is:\\n\", matrixA*matrixB)\n",
    "        print(\"The quotient ofa the matrices is:\\n\", matrixA/matrixB)\n",
    "    elif matrixA.shape!=matrixB.shape:\n",
    "        print(\"The metrices are not equal therefore it is not viable for operations\")\n",
    "    else: 0"
   ]
  },
  {
   "cell_type": "code",
   "execution_count": 87,
   "metadata": {},
   "outputs": [],
   "source": [
    "A2 = np.array([\n",
    "    [1,2,3],\n",
    "    [4,5,6],\n",
    "    [7,8,9]\n",
    "])\n",
    "B2 = np.array([\n",
    "    [1,2,3],\n",
    "    [4,5,6],\n",
    "    [6,5,4],\n",
    "    [1,2,1]\n",
    "])\n",
    "C2 = np.array([\n",
    "    [1,2,2],\n",
    "    [1,2,1],\n",
    "    [3,2,1]\n",
    "])\n",
    "D2 = np.array([\n",
    "    [2,2,2],\n",
    "    [3,3,3],\n",
    "    [1,4,4]\n",
    "])\n",
    "E2 = np.array([\n",
    "    [1,2,2],\n",
    "    [3,3,2],\n",
    "    [1,2,4]\n",
    "])"
   ]
  },
  {
   "cell_type": "code",
   "execution_count": 88,
   "metadata": {},
   "outputs": [
    {
     "name": "stdout",
     "output_type": "stream",
     "text": [
      "Metrices A2 and B2:\n",
      "The metrices are not equal therefore it is not viable for operations\n",
      "-----------------------------------------------------\n",
      "Metrices C2 and D2:\n",
      "\n",
      "The sum of the matrices is:\n",
      " [[3 4 4]\n",
      " [4 5 4]\n",
      " [4 6 5]]\n",
      "The difference of the matrices is:\n",
      " [[-1  0  0]\n",
      " [-2 -1 -2]\n",
      " [ 2 -2 -3]]\n",
      "The product of the matrices is:\n",
      " [[2 4 4]\n",
      " [3 6 3]\n",
      " [3 8 4]]\n",
      "The quotient ofa the matrices is:\n",
      " [[0.5        1.         1.        ]\n",
      " [0.33333333 0.66666667 0.33333333]\n",
      " [3.         0.5        0.25      ]]\n",
      "-----------------------------------------------------\n",
      "Metrices A2 and E2:\n",
      "\n",
      "The sum of the matrices is:\n",
      " [[ 2  4  5]\n",
      " [ 7  8  8]\n",
      " [ 8 10 13]]\n",
      "The difference of the matrices is:\n",
      " [[0 0 1]\n",
      " [1 2 4]\n",
      " [6 6 5]]\n",
      "The product of the matrices is:\n",
      " [[ 1  4  6]\n",
      " [12 15 12]\n",
      " [ 7 16 36]]\n",
      "The quotient ofa the matrices is:\n",
      " [[1.         1.         1.5       ]\n",
      " [1.33333333 1.66666667 3.        ]\n",
      " [7.         4.         2.25      ]]\n"
     ]
    }
   ],
   "source": [
    "print(\"Metrices A2 and B2:\")\n",
    "mat_operations(A2,B2)\n",
    "print(\"-----------------------------------------------------\")\n",
    "print(\"Metrices C2 and D2:\\n\")\n",
    "mat_operations(C2,D2)\n",
    "print(\"-----------------------------------------------------\")\n",
    "print(\"Metrices A2 and E2:\\n\")\n",
    "mat_operations(A2,E2)"
   ]
  }
 ],
 "metadata": {
  "kernelspec": {
   "display_name": "Python 3",
   "language": "python",
   "name": "python3"
  },
  "language_info": {
   "codemirror_mode": {
    "name": "ipython",
    "version": 3
   },
   "file_extension": ".py",
   "mimetype": "text/x-python",
   "name": "python",
   "nbconvert_exporter": "python",
   "pygments_lexer": "ipython3",
   "version": "3.8.3"
  }
 },
 "nbformat": 4,
 "nbformat_minor": 4
}
